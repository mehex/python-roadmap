{
  "nbformat": 4,
  "nbformat_minor": 0,
  "metadata": {
    "colab": {
      "provenance": [],
      "toc_visible": true,
      "authorship_tag": "ABX9TyPTses0sJUnKB3S01ELknlu"
    },
    "kernelspec": {
      "name": "python3",
      "display_name": "Python 3"
    },
    "language_info": {
      "name": "python"
    }
  },
  "cells": [
    {
      "cell_type": "markdown",
      "source": [
        "# Class Variables\n",
        "\n",
        "Classes allow us to logically group data and functions in a way that's easy to reuse and build upon if required. Methods are functions associated with a class\n"
      ],
      "metadata": {
        "id": "RZFzcxfiZkGP"
      }
    },
    {
      "cell_type": "code",
      "execution_count": null,
      "metadata": {
        "id": "h1iJEcNfZcUz"
      },
      "outputs": [],
      "source": [
        "class Employee:\n",
        "  pass"
      ]
    },
    {
      "cell_type": "markdown",
      "source": [
        "Class is the blueprint for creating instances. Each new employee we create using this blueprint will be an instance of that class.\n",
        "\n",
        "Both of these Employee objects below are unique, and have different locations in memory."
      ],
      "metadata": {
        "id": "PxfSCCJHadgM"
      }
    },
    {
      "cell_type": "code",
      "source": [
        "emp_1 = Employee()\n",
        "emp_2 = Employee()\n",
        "\n",
        "print(emp_1)\n",
        "print(emp_2)"
      ],
      "metadata": {
        "colab": {
          "base_uri": "https://localhost:8080/"
        },
        "id": "RA_lFotWacNR",
        "outputId": "8e192727-9372-4d72-fcff-68d9ba724458"
      },
      "execution_count": null,
      "outputs": [
        {
          "output_type": "stream",
          "name": "stdout",
          "text": [
            "<__main__.Employee object at 0x7e837b508df0>\n",
            "<__main__.Employee object at 0x7e837b50b3a0>\n"
          ]
        }
      ]
    },
    {
      "cell_type": "markdown",
      "source": [
        "## Instance variables\n",
        "Instance variables contain data that is unique to each instance."
      ],
      "metadata": {
        "id": "53tZsuH6a2SR"
      }
    },
    {
      "cell_type": "code",
      "source": [
        "\"\"\"\n",
        "  Manually setting the instance variables like so every time is lot of code,\n",
        "  and it is prone to errors. We don't leverage the benefits of classes this way.\n",
        "\"\"\"\n",
        "emp_1.first = 'Meher'\n",
        "emp_1.email = 'meher@gmail.com'\n",
        "emp_1.pay = 70000\n",
        "\n",
        "emp_2.first = 'Rahul'\n",
        "emp_2.email = 'rahul@gmail.com'\n",
        "emp_2.pay = 60000\n",
        "\n",
        "print(emp_1.email, emp_2.email)"
      ],
      "metadata": {
        "colab": {
          "base_uri": "https://localhost:8080/"
        },
        "id": "-zX8YIvjbLaG",
        "outputId": "e2d9bae5-4b66-42a8-ac65-c4b434ac668b"
      },
      "execution_count": null,
      "outputs": [
        {
          "output_type": "stream",
          "name": "stdout",
          "text": [
            "meher@gmail.com rahul@gmail.com\n"
          ]
        }
      ]
    },
    {
      "cell_type": "code",
      "source": [
        "\"\"\"\n",
        "  To initialize certain instance variables while creating the class object, we\n",
        "  can utilize the special __init__ method. This is the constructor.\n",
        "\"\"\"\n",
        "\n",
        "class Employee:\n",
        "  def __init__(self, first, last, pay):\n",
        "    self.first = first\n",
        "    self.last = last\n",
        "    self.pay = pay\n",
        "    self.email = first + '.' + last + '@company.com'\n",
        "\n",
        "emp_1 = Employee('Meher', 'Nigam', 70000)\n",
        "emp_2 = Employee('Rahul', 'Sharma', 60000)\n",
        "\n",
        "print(emp_1.email, emp_2.email)\n"
      ],
      "metadata": {
        "colab": {
          "base_uri": "https://localhost:8080/"
        },
        "id": "6HDSBTE3e5v8",
        "outputId": "3ce7a181-ebef-4873-bd38-1fef6b67fc24"
      },
      "execution_count": null,
      "outputs": [
        {
          "output_type": "stream",
          "name": "stdout",
          "text": [
            "Meher.Nigam@company.com Rahul.Sharma@company.com\n"
          ]
        }
      ]
    },
    {
      "cell_type": "code",
      "source": [
        "\"\"\"\n",
        "  We can get the full name manually, but its better to create a method for it.\n",
        "\"\"\"\n",
        "\n",
        "print(f\"emp_1: {emp_1.first} {emp_1.last}\")\n",
        "print(f\"emp_2: {emp_2.first} {emp_2.last}\")\n",
        "\n",
        "class Employee:\n",
        "  def __init__(self, first, last, pay):\n",
        "    self.first = first\n",
        "    self.last = last\n",
        "    self.pay = pay\n",
        "    self.email = first + '.' + last + '@company.com'\n",
        "\n",
        "  def fullname(self):\n",
        "    return f\"{self.first} {self.last}\"\n",
        "\n",
        "emp_1 = Employee('Meher', 'Nigam', 70000)\n",
        "emp_2 = Employee('Rahul', 'Sharma', 60000)\n",
        "\n",
        "print(emp_1.fullname())\n",
        "print(emp_2.fullname())\n",
        "\n"
      ],
      "metadata": {
        "colab": {
          "base_uri": "https://localhost:8080/"
        },
        "id": "P6g0BvYnfYNG",
        "outputId": "276fc1c1-6339-4115-f782-cb52f2700938"
      },
      "execution_count": null,
      "outputs": [
        {
          "output_type": "stream",
          "name": "stdout",
          "text": [
            "emp_1: Meher Nigam\n",
            "emp_2: Rahul Sharma\n",
            "Meher Nigam\n",
            "Rahul Sharma\n"
          ]
        }
      ]
    },
    {
      "cell_type": "code",
      "source": [
        "class Employee:\n",
        "  def __init__(self, first, last, pay):\n",
        "    self.first = first\n",
        "    self.last = last\n",
        "    self.pay = pay\n",
        "    self.email = first + '.' + last + '@company.com'\n",
        "\n",
        "  def fullname(): # self missing\n",
        "    return f\"hi\"\n",
        "\n",
        "emp_1 = Employee('Meher', 'Nigam', 70000)\n",
        "emp_2 = Employee('Rahul', 'Sharma', 60000)\n",
        "\n",
        "print(emp_1.fullname())\n",
        "print(emp_2.fullname())\n",
        "\n"
      ],
      "metadata": {
        "colab": {
          "base_uri": "https://localhost:8080/",
          "height": 211
        },
        "id": "6VHrG6tEgwMW",
        "outputId": "8b8f4b48-5d3b-4ebf-a5ba-56353728216a"
      },
      "execution_count": null,
      "outputs": [
        {
          "output_type": "error",
          "ename": "TypeError",
          "evalue": "Employee.fullname() takes 0 positional arguments but 1 was given",
          "traceback": [
            "\u001b[0;31m---------------------------------------------------------------------------\u001b[0m",
            "\u001b[0;31mTypeError\u001b[0m                                 Traceback (most recent call last)",
            "\u001b[0;32m<ipython-input-7-0f159884c0d5>\u001b[0m in \u001b[0;36m<cell line: 14>\u001b[0;34m()\u001b[0m\n\u001b[1;32m     12\u001b[0m \u001b[0memp_2\u001b[0m \u001b[0;34m=\u001b[0m \u001b[0mEmployee\u001b[0m\u001b[0;34m(\u001b[0m\u001b[0;34m'Rahul'\u001b[0m\u001b[0;34m,\u001b[0m \u001b[0;34m'Sharma'\u001b[0m\u001b[0;34m,\u001b[0m \u001b[0;36m60000\u001b[0m\u001b[0;34m)\u001b[0m\u001b[0;34m\u001b[0m\u001b[0;34m\u001b[0m\u001b[0m\n\u001b[1;32m     13\u001b[0m \u001b[0;34m\u001b[0m\u001b[0m\n\u001b[0;32m---> 14\u001b[0;31m \u001b[0mprint\u001b[0m\u001b[0;34m(\u001b[0m\u001b[0memp_1\u001b[0m\u001b[0;34m.\u001b[0m\u001b[0mfullname\u001b[0m\u001b[0;34m(\u001b[0m\u001b[0;34m)\u001b[0m\u001b[0;34m)\u001b[0m\u001b[0;34m\u001b[0m\u001b[0;34m\u001b[0m\u001b[0m\n\u001b[0m\u001b[1;32m     15\u001b[0m \u001b[0mprint\u001b[0m\u001b[0;34m(\u001b[0m\u001b[0memp_2\u001b[0m\u001b[0;34m.\u001b[0m\u001b[0mfullname\u001b[0m\u001b[0;34m(\u001b[0m\u001b[0;34m)\u001b[0m\u001b[0;34m)\u001b[0m\u001b[0;34m\u001b[0m\u001b[0;34m\u001b[0m\u001b[0m\n\u001b[1;32m     16\u001b[0m \u001b[0;34m\u001b[0m\u001b[0m\n",
            "\u001b[0;31mTypeError\u001b[0m: Employee.fullname() takes 0 positional arguments but 1 was given"
          ]
        }
      ]
    },
    {
      "cell_type": "markdown",
      "source": [
        "ERROR: Employee.fullname() takes 0 positional arguments but 1 was given\n",
        "\n",
        "The following error arises are we call the method on the object, which automatically passes the object into the method. As we omitted 'self' here, it returns the above error."
      ],
      "metadata": {
        "id": "cxFG_18kg-XP"
      }
    },
    {
      "cell_type": "code",
      "source": [
        "\"\"\"\n",
        "We can call this method on the class, we have to pass in the object in the method.\n",
        "\"\"\"\n",
        "class Employee:\n",
        "  def __init__(self, first, last, pay):\n",
        "    self.first = first\n",
        "    self.last = last\n",
        "    self.pay = pay\n",
        "    self.email = first + '.' + last + '@company.com'\n",
        "\n",
        "  def fullname(self):\n",
        "    return f\"{self.first} {self.last}\"\n",
        "\n",
        "emp_1 = Employee('Meher', 'Nigam', 70000)\n",
        "emp_2 = Employee('Rahul', 'Sharma', 60000)\n",
        "\n",
        "Employee.fullname(emp_1)"
      ],
      "metadata": {
        "colab": {
          "base_uri": "https://localhost:8080/",
          "height": 35
        },
        "id": "B8qTz6YFgwQM",
        "outputId": "d0e9f483-5351-4451-c150-702e2f56fc03"
      },
      "execution_count": null,
      "outputs": [
        {
          "output_type": "execute_result",
          "data": {
            "text/plain": [
              "'Meher Nigam'"
            ],
            "application/vnd.google.colaboratory.intrinsic+json": {
              "type": "string"
            }
          },
          "metadata": {},
          "execution_count": 8
        }
      ]
    },
    {
      "cell_type": "markdown",
      "source": [
        "## Class variables\n",
        "Class variables are variables that are shared among all instances of a class."
      ],
      "metadata": {
        "id": "96uyhz6th3D9"
      }
    },
    {
      "cell_type": "code",
      "source": [
        "\"\"\"\n",
        "  Lets take an example, say we want to give a raise to the employees of the company.\n",
        "  We can create a method as such to increase the salary.\n",
        "\"\"\"\n",
        "\n",
        "class Employee:\n",
        "  def __init__(self, first, last, pay):\n",
        "    self.first = first\n",
        "    self.last = last\n",
        "    self.pay = pay\n",
        "    self.email = first + '.' + last + '@company.com'\n",
        "\n",
        "  def fullname(self):\n",
        "    return f\"{self.first} {self.last}\"\n",
        "\n",
        "  def apply_raise(self):\n",
        "    self.pay = int(self.pay * 1.04)\n",
        "\n",
        "emp_1 = Employee('Meher', 'Nigam', 70000)\n",
        "print(emp_1.pay)\n",
        "emp_1.apply_raise()\n",
        "print(emp_1.pay)"
      ],
      "metadata": {
        "colab": {
          "base_uri": "https://localhost:8080/"
        },
        "id": "hG_Mg2Wch6YH",
        "outputId": "065cf2a3-b988-4fbd-8988-f38f2284f9c6"
      },
      "execution_count": null,
      "outputs": [
        {
          "output_type": "stream",
          "name": "stdout",
          "text": [
            "70000\n",
            "72800\n"
          ]
        }
      ]
    },
    {
      "cell_type": "markdown",
      "source": [
        "This works, but there are a few issues here.\n",
        "* It would be good if the raise percent was accessible, such as `emp_1.raise_amount`\n",
        "* We cannot update this amount dynamically in our code.\n",
        "\n",
        "To solve this, we can create a class variable `raise_amount` as so. <br>\n",
        "\n"
      ],
      "metadata": {
        "id": "edId7-u-jzCu"
      }
    },
    {
      "cell_type": "code",
      "source": [
        "class Employee:\n",
        "\n",
        "  raise_amount = 1.04\n",
        "\n",
        "  def __init__(self, first, last, pay):\n",
        "    self.first = first\n",
        "    self.last = last\n",
        "    self.pay = pay\n",
        "    self.email = first + '.' + last + '@company.com'\n",
        "\n",
        "  def fullname(self):\n",
        "    return f\"{self.first} {self.last}\"\n",
        "\n",
        "  def apply_raise(self):\n",
        "    self.pay = int(self.pay * self.raise_amount)\n",
        "    #self.pay = int(self.pay * Employee.raise_amount)\n",
        "\n",
        "emp_1 = Employee('Meher', 'Nigam', 70000)\n",
        "emp_2 = Employee('Rahul', 'Sharma', 60000)\n",
        "print(emp_1.pay)\n",
        "emp_1.apply_raise()\n",
        "print(emp_1.pay)\n",
        "\n",
        "print(Employee.raise_amount)\n",
        "print(emp_1.raise_amount)"
      ],
      "metadata": {
        "colab": {
          "base_uri": "https://localhost:8080/"
        },
        "id": "MJKeNBsih6s2",
        "outputId": "5334e9f9-f161-4ecd-a408-1ba1f8ce8b9e"
      },
      "execution_count": null,
      "outputs": [
        {
          "output_type": "stream",
          "name": "stdout",
          "text": [
            "70000\n",
            "72800\n",
            "1.04\n",
            "1.04\n"
          ]
        }
      ]
    },
    {
      "cell_type": "markdown",
      "source": [
        "* `raise_amount` can be accessed both ways - from the class itself, and from the instances.\n",
        "* When we try to access any attribute from an instance, it will first check if the instance contains that attribute.\n",
        "* If it doesn't, then it will see if a class or any class that it inherits from contains that attribute.\n",
        "* We can check this by printing out the namespace of instance and the class."
      ],
      "metadata": {
        "id": "zKJZ-39emKLJ"
      }
    },
    {
      "cell_type": "code",
      "source": [
        "emp_1.__dict__"
      ],
      "metadata": {
        "colab": {
          "base_uri": "https://localhost:8080/"
        },
        "id": "TJHdkrPMh6wR",
        "outputId": "e0e1d90a-c28f-4f31-da22-d9dca476598b"
      },
      "execution_count": null,
      "outputs": [
        {
          "output_type": "execute_result",
          "data": {
            "text/plain": [
              "{'first': 'Meher',\n",
              " 'last': 'Nigam',\n",
              " 'pay': 75712,\n",
              " 'email': 'Meher.Nigam@company.com'}"
            ]
          },
          "metadata": {},
          "execution_count": 11
        }
      ]
    },
    {
      "cell_type": "code",
      "source": [
        "Employee.__dict__"
      ],
      "metadata": {
        "colab": {
          "base_uri": "https://localhost:8080/"
        },
        "id": "rTq3yLGRmT1n",
        "outputId": "20d108bc-55cf-48b8-8f17-e0f3b5ec3752"
      },
      "execution_count": null,
      "outputs": [
        {
          "output_type": "execute_result",
          "data": {
            "text/plain": [
              "mappingproxy({'__module__': '__main__',\n",
              "              'raise_amount': 1.04,\n",
              "              '__init__': <function __main__.Employee.__init__(self, first, last, pay)>,\n",
              "              'fullname': <function __main__.Employee.fullname(self)>,\n",
              "              'apply_raise': <function __main__.Employee.apply_raise(self)>,\n",
              "              '__dict__': <attribute '__dict__' of 'Employee' objects>,\n",
              "              '__weakref__': <attribute '__weakref__' of 'Employee' objects>,\n",
              "              '__doc__': None,\n",
              "              '__annotations__': {}})"
            ]
          },
          "metadata": {},
          "execution_count": 12
        }
      ]
    },
    {
      "cell_type": "markdown",
      "source": [
        "The instance namespace does not contain `raise_amount`, but the Employee class does contain the `raise_amount` attribute. <br>\n",
        "\n",
        "Now, if we update the `raise_amount` to 1.05, it updates it for the class and all of the instances."
      ],
      "metadata": {
        "id": "xmqUGYjXm6FR"
      }
    },
    {
      "cell_type": "code",
      "source": [
        "Employee.raise_amount = 1.05\n",
        "print(Employee.raise_amount)\n",
        "print(emp_1.raise_amount)"
      ],
      "metadata": {
        "colab": {
          "base_uri": "https://localhost:8080/"
        },
        "id": "S6G-EO0QnOER",
        "outputId": "de8e0d30-3b4b-4b1b-dc1f-01a2a7cd97fd"
      },
      "execution_count": null,
      "outputs": [
        {
          "output_type": "stream",
          "name": "stdout",
          "text": [
            "1.05\n",
            "1.05\n"
          ]
        }
      ]
    },
    {
      "cell_type": "markdown",
      "source": [
        "Instead of using a class, what if we change the `raise_amount`  using an instance, instead of the class?"
      ],
      "metadata": {
        "id": "o3Alm09YntlR"
      }
    },
    {
      "cell_type": "code",
      "source": [
        "emp_1.raise_amount = 1.06 # A\n",
        "print(Employee.raise_amount)\n",
        "print(emp_1.raise_amount)"
      ],
      "metadata": {
        "colab": {
          "base_uri": "https://localhost:8080/"
        },
        "id": "WrOXnKtSn2rK",
        "outputId": "c6a4dd0f-a346-4c15-eb90-e57548f98adc"
      },
      "execution_count": null,
      "outputs": [
        {
          "output_type": "stream",
          "name": "stdout",
          "text": [
            "1.05\n",
            "1.06\n"
          ]
        }
      ]
    },
    {
      "cell_type": "markdown",
      "source": [
        "It does not change the `raise_amount` for Employee class. Actually, when we made the assignment on line A, it actually created the raise amount attribute within emp_1. We can see this if we print the namespace for the dict."
      ],
      "metadata": {
        "id": "jN42Ek5zoCdb"
      }
    },
    {
      "cell_type": "code",
      "source": [
        "emp_1.__dict__"
      ],
      "metadata": {
        "colab": {
          "base_uri": "https://localhost:8080/"
        },
        "id": "JcGXojD-oxmE",
        "outputId": "523bbdff-0d9c-46d0-d7b1-1dc847a275d2"
      },
      "execution_count": null,
      "outputs": [
        {
          "output_type": "execute_result",
          "data": {
            "text/plain": [
              "{'first': 'Meher',\n",
              " 'last': 'Nigam',\n",
              " 'pay': 72800,\n",
              " 'email': 'Meher.Nigam@company.com',\n",
              " 'raise_amount': 1.06}"
            ]
          },
          "metadata": {},
          "execution_count": 17
        }
      ]
    },
    {
      "cell_type": "markdown",
      "source": [
        "Thus, now we can see that using the below two statements leads to different results. Employee.raise_amount will receive changes to all instances of the class, whereas self.raise_amount will allow us to change the raise_amount for particular instances separately."
      ],
      "metadata": {
        "id": "onB1iaEKpiIK"
      }
    },
    {
      "cell_type": "markdown",
      "source": [
        "# classmethods and staticmethods"
      ],
      "metadata": {
        "id": "2WF4DfOVCRqx"
      }
    },
    {
      "cell_type": "markdown",
      "source": [
        "## classmethods\n",
        "* Regular methods in a class automatically take the instance as the first argument.\n",
        "* Class methods are methods that automatically take the class as the first argument.\n"
      ],
      "metadata": {
        "id": "X3sIGFf8Clbl"
      }
    },
    {
      "cell_type": "markdown",
      "source": [
        "* Calling a class method from an instance (instance.method()) is technically possible but uncommon.\n",
        "* Even if called from an instance, it still operates on the class itself."
      ],
      "metadata": {
        "id": "i2OFLRnvHZTI"
      }
    },
    {
      "cell_type": "code",
      "source": [
        "class Employee:\n",
        "\n",
        "  raise_amount = 1.04\n",
        "  num_of_emps = 0\n",
        "\n",
        "  def __init__(self, first, last, pay):\n",
        "    self.first = first\n",
        "    self.last = last\n",
        "    self.pay = pay\n",
        "    self.email = first + '.' + last + '@company.com'\n",
        "    Employee.num_of_emps += 1\n",
        "\n",
        "  def fullname(self):\n",
        "    return f\"{self.first} {self.last}\"\n",
        "\n",
        "  def apply_raise(self):\n",
        "    self.pay = int(self.pay * self.raise_amount)\n",
        "\n",
        "  @classmethod\n",
        "  def set_raise_amt(cls, amount):\n",
        "    cls.raise_amount = amount\n",
        "\n",
        "Employee.set_raise_amt(1.05) # same as Employee.raise_amt = 1.05\n",
        "\n",
        "#emp_1.set_raise_amt(1.05) # still changes class variable\n",
        "\n",
        "emp_1 = Employee('Meher', 'Nigam', 70000)\n",
        "emp_2 = Employee('Rahul', 'Sharma', 60000)\n",
        "\n",
        "print(Employee.raise_amount)\n",
        "print(emp_1.raise_amount)\n",
        "print(emp_2.raise_amount)\n"
      ],
      "metadata": {
        "id": "jok8EDLGoxjS"
      },
      "execution_count": null,
      "outputs": []
    },
    {
      "cell_type": "markdown",
      "source": [
        "* Class methods can also be used as alternative constructors.\n",
        "* This avoids redundancy when multiple users need to create objects from the same type of input."
      ],
      "metadata": {
        "id": "JVe8XxmgH2mq"
      }
    },
    {
      "cell_type": "code",
      "source": [
        "class Employee:\n",
        "\n",
        "  raise_amount = 1.04\n",
        "  num_of_emps = 0\n",
        "\n",
        "  def __init__(self, first, last, pay):\n",
        "    self.first = first\n",
        "    self.last = last\n",
        "    self.pay = pay\n",
        "    self.email = first + '.' + last + '@company.com'\n",
        "    Employee.num_of_emps += 1\n",
        "\n",
        "  def fullname(self):\n",
        "    return f\"{self.first} {self.last}\"\n",
        "\n",
        "  def apply_raise(self):\n",
        "    self.pay = int(self.pay * self.raise_amount)\n",
        "\n",
        "  @classmethod\n",
        "  def set_raise_amt(cls, amount):\n",
        "    cls.raise_amount = amount\n",
        "\n",
        "  @classmethod\n",
        "  def from_string(cls, emp_str):\n",
        "    first, last, pay = emp_str.split('-')\n",
        "    return cls(first, last, pay)\n",
        "\n",
        "emp_str_1 = 'John-Doe-70000'\n",
        "emp_str_2 = 'Steve-Smith-30000'\n",
        "emp_str_3 = 'Jane-Doe-90000'\n",
        "\n",
        "new_emp_1 = Employee.from_string(emp_str_1)\n",
        "\n",
        "print(new_emp_1.email)\n",
        "print(new_emp_1.pay)"
      ],
      "metadata": {
        "id": "Wj0H_SamFtS4"
      },
      "execution_count": null,
      "outputs": []
    },
    {
      "cell_type": "markdown",
      "source": [
        "## staticmethods\n",
        "\n",
        "*  Static methods do not take the instance or the class as the first argument.\n",
        "* They behave just like normal functions, yet they should have some logical connection to our class.\n",
        "* Defined using the @staticmethod decorator."
      ],
      "metadata": {
        "id": "6UpFmm-VEicr"
      }
    },
    {
      "cell_type": "code",
      "source": [
        "class Employee:\n",
        "\n",
        "  raise_amount = 1.04\n",
        "  num_of_emps = 0\n",
        "\n",
        "  def __init__(self, first, last, pay):\n",
        "    self.first = first\n",
        "    self.last = last\n",
        "    self.pay = pay\n",
        "    self.email = first + '.' + last + '@company.com'\n",
        "    Employee.num_of_emps += 1\n",
        "\n",
        "  def fullname(self):\n",
        "    return f\"{self.first} {self.last}\"\n",
        "\n",
        "  def apply_raise(self):\n",
        "    self.pay = int(self.pay * self.raise_amount)\n",
        "\n",
        "  @classmethod\n",
        "  def set_raise_amt(cls, amount):\n",
        "    cls.raise_amount = amount\n",
        "\n",
        "  @classmethod\n",
        "  def from_string(cls, emp_str):\n",
        "    first, last, pay = emp_str.split('-')\n",
        "    return cls(first, last, pay)\n",
        "\n",
        "  @staticmethod\n",
        "  def is_workday(day):\n",
        "    if day.weekday() == 5 or day.weekday() == 6:\n",
        "      return False\n",
        "    return True\n",
        "\n",
        "import datetime\n",
        "my_date = datetime.date(2025, 2, 24)\n",
        "print(Employee.is_workday(my_date))\n",
        "\n",
        "my_date = datetime.date(2025, 2, 23)\n",
        "print(Employee.is_workday(my_date))"
      ],
      "metadata": {
        "colab": {
          "base_uri": "https://localhost:8080/"
        },
        "id": "kLX1FdqDEr3Q",
        "outputId": "47e0be80-b0e0-4f13-b310-4d8a92a3ae61"
      },
      "execution_count": null,
      "outputs": [
        {
          "output_type": "stream",
          "name": "stdout",
          "text": [
            "True\n",
            "False\n"
          ]
        }
      ]
    },
    {
      "cell_type": "markdown",
      "source": [
        "# Inheritance\n",
        "\n",
        "* Inheritance allows a class to inherit attributes and methods from another class (parent class).\n",
        "* Useful for code reuse and maintaining modularity.\n",
        "* Subclasses can:\n",
        "  * Inherit everything from the parent.\n",
        "  * Override methods.\n",
        "  * Add new functionality."
      ],
      "metadata": {
        "id": "P_vLNhu-OvX3"
      }
    },
    {
      "cell_type": "code",
      "source": [
        "\"\"\"\n",
        "Define a subclass by specifying the parent class in parentheses.\n",
        "\n",
        "Even without defining attributes or methods, Developer gets all properties from Employee.\n",
        "\"\"\"\n",
        "\n",
        "class Employee:\n",
        "\n",
        "  raise_amount = 1.04\n",
        "  num_of_emps = 0\n",
        "\n",
        "  def __init__(self, first, last, pay):\n",
        "    self.first = first\n",
        "    self.last = last\n",
        "    self.pay = pay\n",
        "    self.email = first + '.' + last + '@company.com'\n",
        "    Employee.num_of_emps += 1\n",
        "\n",
        "  def fullname(self):\n",
        "    return f\"{self.first} {self.last}\"\n",
        "\n",
        "  def apply_raise(self):\n",
        "    self.pay = int(self.pay * self.raise_amount)\n",
        "\n",
        "\n",
        "class Developer(Employee):\n",
        "  pass\n",
        "\n",
        "dev_1 = Developer('Meher', 'Nigam', 50000)\n",
        "print(dev_1.email)\n",
        "\n",
        "dev_2 = Developer('Rahul', 'Sharma', 50000)\n",
        "print(dev_1.email)\n",
        "\n",
        "print(dev_1.pay)\n",
        "dev_1.apply_raise()\n",
        "print(dev_1.pay)"
      ],
      "metadata": {
        "colab": {
          "base_uri": "https://localhost:8080/"
        },
        "id": "6WqmjOnGOxV_",
        "outputId": "7712578c-398e-4989-c48c-6ffd37fa3a08"
      },
      "execution_count": null,
      "outputs": [
        {
          "output_type": "stream",
          "name": "stdout",
          "text": [
            "Meher.Nigam@company.com\n",
            "Meher.Nigam@company.com\n",
            "50000\n",
            "52000\n"
          ]
        }
      ]
    },
    {
      "cell_type": "markdown",
      "source": [
        "### Method Resolution Order (MRO)\n",
        "Python searches for methods in this order:\n",
        "\n",
        "* Subclass\n",
        "* Parent class\n",
        "* Base object class (default parent of all Python classes).\n",
        "<br><br>\n",
        "* Use the help() function to visualize MRO:"
      ],
      "metadata": {
        "id": "x_36WarpUhck"
      }
    },
    {
      "cell_type": "code",
      "source": [
        "help(Developer)"
      ],
      "metadata": {
        "colab": {
          "base_uri": "https://localhost:8080/"
        },
        "id": "9j3Kr3xCPfnN",
        "outputId": "02e19be3-afb9-4a4f-8229-7025d29fc0c9"
      },
      "execution_count": null,
      "outputs": [
        {
          "output_type": "stream",
          "name": "stdout",
          "text": [
            "Help on class Developer in module __main__:\n",
            "\n",
            "class Developer(Employee)\n",
            " |  Developer(first, last, pay)\n",
            " |  \n",
            " |  Method resolution order:\n",
            " |      Developer\n",
            " |      Employee\n",
            " |      builtins.object\n",
            " |  \n",
            " |  Methods inherited from Employee:\n",
            " |  \n",
            " |  __init__(self, first, last, pay)\n",
            " |      Initialize self.  See help(type(self)) for accurate signature.\n",
            " |  \n",
            " |  apply_raise(self)\n",
            " |  \n",
            " |  fullname(self)\n",
            " |  \n",
            " |  ----------------------------------------------------------------------\n",
            " |  Data descriptors inherited from Employee:\n",
            " |  \n",
            " |  __dict__\n",
            " |      dictionary for instance variables\n",
            " |  \n",
            " |  __weakref__\n",
            " |      list of weak references to the object\n",
            " |  \n",
            " |  ----------------------------------------------------------------------\n",
            " |  Data and other attributes inherited from Employee:\n",
            " |  \n",
            " |  num_of_emps = 2\n",
            " |  \n",
            " |  raise_amount = 1.04\n",
            "\n"
          ]
        }
      ]
    },
    {
      "cell_type": "code",
      "source": [
        "\"\"\"\n",
        "Changing attributes like raise_amount in a subclass as below.\n",
        "This does not affect Employee instances.\n",
        "\"\"\"\n",
        "\n",
        "class Developer(Employee):\n",
        "  raise_amount = 1.10\n",
        "\n",
        "dev_1 = Developer('Meher', 'Nigam', 50000)\n",
        "print(dev_1.email)\n",
        "\n",
        "print(dev_1.pay)\n",
        "dev_1.apply_raise()\n",
        "print(dev_1.pay)"
      ],
      "metadata": {
        "colab": {
          "base_uri": "https://localhost:8080/"
        },
        "id": "p6ItTNXjQmBE",
        "outputId": "efaad373-4fd8-4e21-d3a1-a35afbe2a1c5"
      },
      "execution_count": null,
      "outputs": [
        {
          "output_type": "stream",
          "name": "stdout",
          "text": [
            "Meher.Nigam@company.com\n",
            "50000\n",
            "55000\n"
          ]
        }
      ]
    },
    {
      "cell_type": "code",
      "source": [
        "\"\"\"\n",
        "If a subclass requires additional attributes, override __init__.\n",
        "super() ensures we reuse the parent class constructor.\n",
        "\"\"\"\n",
        "\n",
        "class Developer(Employee):\n",
        "  raise_amount = 1.10\n",
        "\n",
        "  def __init__(self, first, last, pay, prog_lang):\n",
        "    super().__init__(first, last, pay)\n",
        "    self.prog_lang = prog_lang\n",
        "\n",
        "dev_1 = Developer('Meher', 'Nigam', 50000, 'Java')\n",
        "print(dev_1.email)\n",
        "print(dev_1.prog_lang)\n",
        "\n",
        "print(dev_1.pay)\n",
        "dev_1.apply_raise()\n",
        "print(dev_1.pay)"
      ],
      "metadata": {
        "colab": {
          "base_uri": "https://localhost:8080/"
        },
        "id": "J7Yp96bhRD8W",
        "outputId": "5e126017-af4f-48a8-e22d-f0148a6c4748"
      },
      "execution_count": null,
      "outputs": [
        {
          "output_type": "stream",
          "name": "stdout",
          "text": [
            "Meher.Nigam@company.com\n",
            "Java\n",
            "50000\n",
            "55000\n"
          ]
        }
      ]
    },
    {
      "cell_type": "code",
      "source": [
        "\"\"\"\n",
        "Manager class should store a list of employees it supervises.\n",
        "-> Stores a list of supervised employees.\n",
        "-> Methods to add/remove employees.\n",
        "-> Uses super() to call Employee's __init__.\n",
        "\"\"\"\n",
        "class Manager(Employee):\n",
        "  def __init__(self, first, last, pay, employees=None):\n",
        "    super().__init__(first, last, pay)\n",
        "    if employees is None:\n",
        "      self.employees = []\n",
        "    else:\n",
        "      self.employees = employees\n",
        "\n",
        "  def add_emp(self, emp):\n",
        "    if emp not in self.employees:\n",
        "      self.employees.append(emp)\n",
        "\n",
        "  def remove_emp(self, emp):\n",
        "    if emp in self.employees:\n",
        "      self.employees.remove(emp)\n",
        "\n",
        "  def print_emps(self):\n",
        "    for emp in self.employees:\n",
        "      print('-->', emp.fullname())\n",
        "\n",
        "dev_1 = Developer('Meher', 'Nigam', 50000, 'Java')\n",
        "dev_2 = Developer('Rahul', 'Sharma', 50000, 'Python')\n",
        "\n",
        "mgr_1 = Manager('Sue', 'Smith', 90000, [dev_1])\n",
        "print(mgr_1.email)\n",
        "\n",
        "mgr_1.add_emp(dev_2)\n",
        "mgr_1.remove_emp(dev_1)\n",
        "\n",
        "mgr_1.print_emps()"
      ],
      "metadata": {
        "colab": {
          "base_uri": "https://localhost:8080/"
        },
        "id": "rp26_4UYR4b4",
        "outputId": "42f55733-905a-49ee-9b8b-781773f06641"
      },
      "execution_count": null,
      "outputs": [
        {
          "output_type": "stream",
          "name": "stdout",
          "text": [
            "Sue.Smith@company.com\n",
            "--> Rahul Sharma\n"
          ]
        }
      ]
    },
    {
      "cell_type": "code",
      "source": [
        "print(isinstance(mgr_1, Manager))\n",
        "print(isinstance(mgr_1, Employee))\n",
        "print(isinstance(mgr_1, Developer))"
      ],
      "metadata": {
        "colab": {
          "base_uri": "https://localhost:8080/"
        },
        "id": "kRXx2eygT2is",
        "outputId": "b825aea0-35b5-478b-8308-53b7511e2ba4"
      },
      "execution_count": null,
      "outputs": [
        {
          "output_type": "stream",
          "name": "stdout",
          "text": [
            "True\n",
            "True\n",
            "False\n"
          ]
        }
      ]
    },
    {
      "cell_type": "code",
      "source": [
        "issubclass(Developer, Employee)\n",
        "issubclass(Manager, Employee)\n",
        "issubclass(Manager, Developer)"
      ],
      "metadata": {
        "colab": {
          "base_uri": "https://localhost:8080/"
        },
        "id": "dd9WKY58VBh6",
        "outputId": "0b717fee-adec-432e-be77-e62e2b74624f"
      },
      "execution_count": null,
      "outputs": [
        {
          "output_type": "execute_result",
          "data": {
            "text/plain": [
              "False"
            ]
          },
          "metadata": {},
          "execution_count": 13
        }
      ]
    },
    {
      "cell_type": "markdown",
      "source": [
        "### Real-World Example: HTTP Exceptions in Flask\n",
        "* The Flask web framework uses inheritance for exception handling.\n",
        "\n",
        "* HTTPException is a base class for all HTTP errors.\n",
        "\n",
        "* Subclasses inherit behavior from HTTPException but modify specific attributes like code and description.\n",
        "\n",
        "\n"
      ],
      "metadata": {
        "id": "3h9pzqhAVFjS"
      }
    },
    {
      "cell_type": "code",
      "source": [
        "class HTTPException(BaseException):\n",
        "    pass  # Parent class\n",
        "\n",
        "class BadRequest(HTTPException):\n",
        "    code = 400\n",
        "    description = \"Bad Request\"\n"
      ],
      "metadata": {
        "id": "zSxz21PXVIIG"
      },
      "execution_count": null,
      "outputs": []
    },
    {
      "cell_type": "markdown",
      "source": [
        "# Special (Magic/Dunder) Methods\n",
        "* Special methods (also called magic methods) allow us to emulate built-in behavior in Python.\n",
        "* Used for operator overloading.\n",
        "* Always surrounded by double underscores (__), e.g., __init__ (Dunder init)\n",
        "* These can be extremely powerful if used correctly. We will start by writing a few special methods of our own and then look at how some of them are used in the Standard Library."
      ],
      "metadata": {
        "id": "S-ODCk4D4Khj"
      }
    },
    {
      "cell_type": "markdown",
      "source": [
        "1. Built-in functions provide a clean, easy-to-use interface.\n",
        "2. Dunder methods define the behavior behind the scenes.\n",
        "3. Python automatically calls dunder methods when you use built-in functions.\n",
        "4. Overriding dunder methods lets you customize how objects behave with built-ins."
      ],
      "metadata": {
        "id": "Q08biZmY231g"
      }
    },
    {
      "cell_type": "markdown",
      "source": [
        "![image.png](data:image/png;base64,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)"
      ],
      "metadata": {
        "id": "yqERdD4e2-V-"
      }
    },
    {
      "cell_type": "markdown",
      "source": [
        "## Operator Overloading\n",
        "\n",
        "* Addition (+) behaves differently for integers and strings.\n",
        "\n",
        "* Printing an instance of a class by default shows a vague object representation.\n",
        "\n",
        "* Special methods can change this behavior."
      ],
      "metadata": {
        "id": "d_uCgsXPuhau"
      }
    },
    {
      "cell_type": "code",
      "source": [
        "print(1 + 2)  # Output: 3\n",
        "print(\"a\" + \"b\")  # Output: \"ab\""
      ],
      "metadata": {
        "colab": {
          "base_uri": "https://localhost:8080/"
        },
        "id": "YsmMtYNr4JhK",
        "outputId": "bdab97bd-2666-4cc0-8360-c2cdb5c94d48"
      },
      "execution_count": null,
      "outputs": [
        {
          "output_type": "stream",
          "name": "stdout",
          "text": [
            "3\n",
            "ab\n"
          ]
        }
      ]
    },
    {
      "cell_type": "markdown",
      "source": [
        "## Common Special Methods\n",
        "\n",
        "### __init__\n",
        "\n",
        "* Called when an instance of a class is created.\n",
        "* Initializes instance attributes.\n",
        "\n",
        "### __repr__ and __str__\n",
        "\n",
        "* __repr__: Unambiguous representation, useful for debugging.\n",
        "\n",
        "* __str__: Readable representation for end users."
      ],
      "metadata": {
        "id": "a7GyBjL0uzsk"
      }
    },
    {
      "cell_type": "code",
      "source": [
        "class Employee:\n",
        "\n",
        "  raise_amount = 1.04\n",
        "  num_of_emps = 0\n",
        "\n",
        "  def __init__(self, first, last, pay):\n",
        "    self.first = first\n",
        "    self.last = last\n",
        "    self.pay = pay\n",
        "    self.email = first + '.' + last + '@company.com'\n",
        "    Employee.num_of_emps += 1\n",
        "\n",
        "  def fullname(self):\n",
        "    return f\"{self.first} {self.last}\"\n",
        "\n",
        "  def apply_raise(self):\n",
        "    self.pay = int(self.pay * self.raise_amount)\n",
        "\n",
        "  def __repr__(self):\n",
        "      return f\"Employee('{self.first}', '{self.last}', {self.pay})\"\n",
        "\n",
        "  def __str__(self):\n",
        "      return f\"{self.first} {self.last} - {self.first.lower()}.{self.last.lower()}@company.com\""
      ],
      "metadata": {
        "id": "_DRJM7C7u7rY"
      },
      "execution_count": null,
      "outputs": []
    },
    {
      "cell_type": "code",
      "source": [
        "emp1 = Employee(\"John\", \"Doe\", 50000)\n",
        "print(f\"str: {emp1}\")  # Uses __str__\n",
        "print(f\"repr: {repr(emp1)}\")  # Uses __repr__"
      ],
      "metadata": {
        "colab": {
          "base_uri": "https://localhost:8080/"
        },
        "id": "7bMXvpNTwQ_N",
        "outputId": "a2b2f8f1-d946-404a-fbbe-aa3ba103593b"
      },
      "execution_count": null,
      "outputs": [
        {
          "output_type": "stream",
          "name": "stdout",
          "text": [
            "str: John Doe - john.doe@company.com\n",
            "repr: Employee('John', 'Doe', 50000)\n"
          ]
        }
      ]
    },
    {
      "cell_type": "markdown",
      "source": [
        "## Arithmetic Special Methods\n",
        "\n",
        "Customize how operators behave for objects.\n",
        "\n",
        "Example: Summing employee salaries."
      ],
      "metadata": {
        "id": "D9DpV3pJwUY_"
      }
    },
    {
      "cell_type": "code",
      "source": [
        "class Employee:\n",
        "\n",
        "  raise_amount = 1.04\n",
        "  num_of_emps = 0\n",
        "\n",
        "  def __init__(self, first, last, pay):\n",
        "    self.first = first\n",
        "    self.last = last\n",
        "    self.pay = pay\n",
        "    self.email = first + '.' + last + '@company.com'\n",
        "    Employee.num_of_emps += 1\n",
        "\n",
        "  def fullname(self):\n",
        "    return f\"{self.first} {self.last}\"\n",
        "\n",
        "  def apply_raise(self):\n",
        "    self.pay = int(self.pay * self.raise_amount)\n",
        "\n",
        "  def __add__(self, other):\n",
        "        return self.pay + other.pay\n",
        "\n",
        "  def __len__(self):\n",
        "        return len(self.first + self.last)\n",
        "\n",
        "emp1 = Employee(\"John\", \"Doe\", 50000)\n",
        "emp2 = Employee(\"Jane\", \"Smith\", 60000)\n",
        "\n",
        "print(emp1 + emp2)  # Output: 110000\n",
        "\n",
        "print(len(emp1))  # Output: 8"
      ],
      "metadata": {
        "colab": {
          "base_uri": "https://localhost:8080/"
        },
        "id": "j0kuZEizwWgC",
        "outputId": "d97f1cc5-7b2b-4ed2-f3ed-0683e40d4909"
      },
      "execution_count": null,
      "outputs": [
        {
          "output_type": "stream",
          "name": "stdout",
          "text": [
            "110000\n",
            "7\n"
          ]
        }
      ]
    },
    {
      "cell_type": "markdown",
      "source": [
        "## List of Dunder Methods\n",
        "\n",
        "https://docs.python.org/3/reference/datamodel.html#special-method-names"
      ],
      "metadata": {
        "id": "T3iE-4rTxDCP"
      }
    },
    {
      "cell_type": "markdown",
      "source": [
        "# Property Decorator (@property)\n",
        "\n",
        "* Used to define getter, setter, and deleter methods for attributes.\n",
        "\n",
        "* Allows **controlled attribute access** while keeping code clean."
      ],
      "metadata": {
        "id": "HLOd9rKg4E7L"
      }
    },
    {
      "cell_type": "code",
      "source": [
        "class Employee:\n",
        "    def __init__(self, first, last):\n",
        "        self.first = first\n",
        "        self.last = last\n",
        "\n",
        "    @property\n",
        "    def email(self):\n",
        "        return f\"{self.first.lower()}.{self.last.lower()}@company.com\""
      ],
      "metadata": {
        "id": "pdYRqlqi4KF0"
      },
      "execution_count": null,
      "outputs": []
    },
    {
      "cell_type": "code",
      "source": [
        "emp1 = Employee(\"John\", \"Doe\")\n",
        "print(emp1.email)  # Output: john.doe@company.com"
      ],
      "metadata": {
        "colab": {
          "base_uri": "https://localhost:8080/"
        },
        "id": "zx-Q-FEm4T-_",
        "outputId": "33a0a5e7-583c-4de4-cc2a-386fd651635b"
      },
      "execution_count": null,
      "outputs": [
        {
          "output_type": "stream",
          "name": "stdout",
          "text": [
            "john.doe@company.com\n"
          ]
        }
      ]
    },
    {
      "cell_type": "markdown",
      "source": [
        "# Setter and Deleter\n",
        "\n",
        "* @property allows an attribute-like interface.\n",
        "\n",
        "* @attribute.setter and @attribute.deleter provide controlled modification and deletion."
      ],
      "metadata": {
        "id": "J_G71Rg14W6t"
      }
    },
    {
      "cell_type": "code",
      "source": [
        "class Employee:\n",
        "    def __init__(self, first, last):\n",
        "        self.first = first\n",
        "        self.last = last\n",
        "\n",
        "    @property\n",
        "    def full_name(self):\n",
        "        \"\"\"Getter method\"\"\"\n",
        "        return f\"{self.first} {self.last}\"\n",
        "\n",
        "    @full_name.setter\n",
        "    def full_name(self, name):\n",
        "        \"\"\"Setter method\"\"\"\n",
        "        first, last = list(name.split())\n",
        "        if first == last:\n",
        "            raise ValueError(\"Last name cannot be equal to first name.\")\n",
        "        self.first = first\n",
        "        self.last = last\n",
        "\n",
        "\n",
        "    @full_name.deleter\n",
        "    def full_name(self):\n",
        "        \"\"\"Deleter method\"\"\"\n",
        "        print(\"Deleting full name!\")\n",
        "        self.first = None\n",
        "        self.last = None"
      ],
      "metadata": {
        "id": "O-jRoOGD4aZq"
      },
      "execution_count": null,
      "outputs": []
    },
    {
      "cell_type": "code",
      "source": [
        "emp1 = Employee(\"John\", \"Doe\")\n",
        "emp1.full_name = \"Jane Smith\"\n",
        "print(emp1.full_name)  # Output: Jane Smith\n",
        "del emp1.full_name  # Output: Deleting full name!"
      ],
      "metadata": {
        "colab": {
          "base_uri": "https://localhost:8080/"
        },
        "id": "PK6rx5Oq4jw0",
        "outputId": "8c18a7f3-3ca9-44fc-bdb0-358a8208fc1f"
      },
      "execution_count": null,
      "outputs": [
        {
          "output_type": "stream",
          "name": "stdout",
          "text": [
            "Jane Smith\n",
            "Deleting full name!\n"
          ]
        }
      ]
    },
    {
      "cell_type": "code",
      "source": [
        "emp1 = Employee(\"John\", \"Doe\")\n",
        "print(emp1.full_name)\n",
        "emp1.full_name = \"Jane Jane\"\n",
        "print(emp1.full_name)"
      ],
      "metadata": {
        "colab": {
          "base_uri": "https://localhost:8080/",
          "height": 348
        },
        "id": "Sg4kEM694wc4",
        "outputId": "c88b7264-a659-4e8e-b4d7-85fed17a41b6"
      },
      "execution_count": null,
      "outputs": [
        {
          "output_type": "stream",
          "name": "stdout",
          "text": [
            "John Doe\n"
          ]
        },
        {
          "output_type": "error",
          "ename": "ValueError",
          "evalue": "Last name cannot be equal to first name.",
          "traceback": [
            "\u001b[0;31m---------------------------------------------------------------------------\u001b[0m",
            "\u001b[0;31mValueError\u001b[0m                                Traceback (most recent call last)",
            "\u001b[0;32m<ipython-input-27-1f98bc05bcf2>\u001b[0m in \u001b[0;36m<cell line: 0>\u001b[0;34m()\u001b[0m\n\u001b[1;32m      1\u001b[0m \u001b[0memp1\u001b[0m \u001b[0;34m=\u001b[0m \u001b[0mEmployee\u001b[0m\u001b[0;34m(\u001b[0m\u001b[0;34m\"John\"\u001b[0m\u001b[0;34m,\u001b[0m \u001b[0;34m\"Doe\"\u001b[0m\u001b[0;34m)\u001b[0m\u001b[0;34m\u001b[0m\u001b[0;34m\u001b[0m\u001b[0m\n\u001b[1;32m      2\u001b[0m \u001b[0mprint\u001b[0m\u001b[0;34m(\u001b[0m\u001b[0memp1\u001b[0m\u001b[0;34m.\u001b[0m\u001b[0mfull_name\u001b[0m\u001b[0;34m)\u001b[0m\u001b[0;34m\u001b[0m\u001b[0;34m\u001b[0m\u001b[0m\n\u001b[0;32m----> 3\u001b[0;31m \u001b[0memp1\u001b[0m\u001b[0;34m.\u001b[0m\u001b[0mfull_name\u001b[0m \u001b[0;34m=\u001b[0m \u001b[0;34m\"Jane Jane\"\u001b[0m\u001b[0;34m\u001b[0m\u001b[0;34m\u001b[0m\u001b[0m\n\u001b[0m\u001b[1;32m      4\u001b[0m \u001b[0mprint\u001b[0m\u001b[0;34m(\u001b[0m\u001b[0memp1\u001b[0m\u001b[0;34m.\u001b[0m\u001b[0mfull_name\u001b[0m\u001b[0;34m)\u001b[0m\u001b[0;34m\u001b[0m\u001b[0;34m\u001b[0m\u001b[0m\n",
            "\u001b[0;32m<ipython-input-25-e776eebf0a4c>\u001b[0m in \u001b[0;36mfull_name\u001b[0;34m(self, name)\u001b[0m\n\u001b[1;32m     14\u001b[0m         \u001b[0mfirst\u001b[0m\u001b[0;34m,\u001b[0m \u001b[0mlast\u001b[0m \u001b[0;34m=\u001b[0m \u001b[0mlist\u001b[0m\u001b[0;34m(\u001b[0m\u001b[0mname\u001b[0m\u001b[0;34m.\u001b[0m\u001b[0msplit\u001b[0m\u001b[0;34m(\u001b[0m\u001b[0;34m)\u001b[0m\u001b[0;34m)\u001b[0m\u001b[0;34m\u001b[0m\u001b[0;34m\u001b[0m\u001b[0m\n\u001b[1;32m     15\u001b[0m         \u001b[0;32mif\u001b[0m \u001b[0mfirst\u001b[0m \u001b[0;34m==\u001b[0m \u001b[0mlast\u001b[0m\u001b[0;34m:\u001b[0m\u001b[0;34m\u001b[0m\u001b[0;34m\u001b[0m\u001b[0m\n\u001b[0;32m---> 16\u001b[0;31m             \u001b[0;32mraise\u001b[0m \u001b[0mValueError\u001b[0m\u001b[0;34m(\u001b[0m\u001b[0;34m\"Last name cannot be equal to first name.\"\u001b[0m\u001b[0;34m)\u001b[0m\u001b[0;34m\u001b[0m\u001b[0;34m\u001b[0m\u001b[0m\n\u001b[0m\u001b[1;32m     17\u001b[0m         \u001b[0mself\u001b[0m\u001b[0;34m.\u001b[0m\u001b[0mfirst\u001b[0m \u001b[0;34m=\u001b[0m \u001b[0mfirst\u001b[0m\u001b[0;34m\u001b[0m\u001b[0;34m\u001b[0m\u001b[0m\n\u001b[1;32m     18\u001b[0m         \u001b[0mself\u001b[0m\u001b[0;34m.\u001b[0m\u001b[0mlast\u001b[0m \u001b[0;34m=\u001b[0m \u001b[0mlast\u001b[0m\u001b[0;34m\u001b[0m\u001b[0;34m\u001b[0m\u001b[0m\n",
            "\u001b[0;31mValueError\u001b[0m: Last name cannot be equal to first name."
          ]
        }
      ]
    },
    {
      "cell_type": "markdown",
      "source": [
        "## Common Pitfalls\n",
        "\n",
        "* If you define a property without using an internal variable (typically prefixed with _), you may cause infinite recursion. Never name the getter function and the internal variable with the same name.\n",
        "\n",
        "* If you define only a getter but try to assign a value, Python will raise an AttributeError.\n",
        "\n",
        "* Using properties for expensive computations can slow down code unexpectedly.\n",
        "\n",
        "* If you use del obj.property_name but don’t implement a deleter, Python raises an AttributeError.\n",
        "\n",
        "* Only use with instance variables, not with class variables\n",
        "\n",
        "* Python allows using the property() function manually, but the decorator syntax (@property) is more readable and preferred."
      ],
      "metadata": {
        "id": "h7fYt4Cd5yT3"
      }
    },
    {
      "cell_type": "markdown",
      "source": [
        "![image.png](data:image/png;base64,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)"
      ],
      "metadata": {
        "id": "jktr15G_B4ZA"
      }
    },
    {
      "cell_type": "markdown",
      "source": [
        "# Collections\n",
        "\n",
        "* This module implements specialized container datatypes providing alternatives to Python’s general purpose built-in containers, dict, list, set, and tuple.\n",
        "\n",
        "* https://docs.python.org/3/library/collections.html"
      ],
      "metadata": {
        "id": "3p7jXCADg_BG"
      }
    },
    {
      "cell_type": "code",
      "source": [
        "from collections import namedtuple, deque, ChainMap, Counter, defaultdict, UserDict, UserList, UserString"
      ],
      "metadata": {
        "id": "_YYMZibBiOBl"
      },
      "execution_count": null,
      "outputs": []
    },
    {
      "cell_type": "markdown",
      "source": [
        "## namedtuple\n",
        "\n",
        "*  Lightweight, immutable object type.\n",
        "\n",
        "* https://docs.python.org/3/library/collections.html#collections.namedtuple"
      ],
      "metadata": {
        "id": "owRRwi-Qh8qm"
      }
    },
    {
      "cell_type": "code",
      "source": [
        "Point = namedtuple('Point', ['x', 'y'])"
      ],
      "metadata": {
        "id": "OEFJ11NU6zk7"
      },
      "execution_count": null,
      "outputs": []
    },
    {
      "cell_type": "code",
      "source": [
        "p = Point(11, y=22)"
      ],
      "metadata": {
        "id": "EUQzV544iEoK"
      },
      "execution_count": null,
      "outputs": []
    },
    {
      "cell_type": "code",
      "source": [
        "p[0] + p[1]"
      ],
      "metadata": {
        "colab": {
          "base_uri": "https://localhost:8080/"
        },
        "id": "t9toqqRZiErX",
        "outputId": "9c41458c-4706-45e0-f711-5a19dfaed5f6"
      },
      "execution_count": null,
      "outputs": [
        {
          "output_type": "execute_result",
          "data": {
            "text/plain": [
              "33"
            ]
          },
          "metadata": {},
          "execution_count": 5
        }
      ]
    },
    {
      "cell_type": "markdown",
      "source": [
        "## deque\n",
        "* Double-ended queue for fast appends and pops.\n",
        "* https://docs.python.org/3/library/collections.html#deque-objects"
      ],
      "metadata": {
        "id": "1vPmYy30jHQl"
      }
    },
    {
      "cell_type": "code",
      "source": [
        "d = deque([1, 2, 3])"
      ],
      "metadata": {
        "id": "WUbC6EdQjGMd"
      },
      "execution_count": null,
      "outputs": []
    },
    {
      "cell_type": "code",
      "source": [
        "d.append(4)          # Append to the right\n",
        "d.appendleft(0)      # Append to the left\n",
        "print(\"deque after appends:\", d)  # Output: deque([0, 1, 2, 3, 4])\n",
        "\n",
        "d.pop()              # Remove from the right\n",
        "d.popleft()          # Remove from the left\n",
        "print(\"deque after pops:\", d)  # Output: deque([1, 2, 3])"
      ],
      "metadata": {
        "colab": {
          "base_uri": "https://localhost:8080/"
        },
        "id": "mhb1ig0MjGVE",
        "outputId": "a2ab15d6-d653-48b3-8586-49f44f92317e"
      },
      "execution_count": null,
      "outputs": [
        {
          "output_type": "stream",
          "name": "stdout",
          "text": [
            "deque after appends: deque([0, 1, 2, 3, 4])\n",
            "deque after pops: deque([1, 2, 3])\n"
          ]
        }
      ]
    },
    {
      "cell_type": "markdown",
      "source": [
        "## ChainMap\n",
        "* Groups multiple dictionaries together."
      ],
      "metadata": {
        "id": "8HKbJ6FFjPhv"
      }
    },
    {
      "cell_type": "code",
      "source": [
        "dict1 = {'a': 1, 'b': 2}\n",
        "dict2 = {'b': 3, 'c': 4}\n",
        "chain = ChainMap(dict1, dict2)\n",
        "\n",
        "print(\"ChainMap keys:\", list(chain.keys()))  # Combined keys; lookup favors first dict\n",
        "print(\"ChainMap value for 'b':\", chain['b'])   # Output: 2 from dict1"
      ],
      "metadata": {
        "colab": {
          "base_uri": "https://localhost:8080/"
        },
        "id": "SmkthN4SjGXu",
        "outputId": "22da1fc4-eae4-45e4-d2df-02d2bdff8fc4"
      },
      "execution_count": null,
      "outputs": [
        {
          "output_type": "stream",
          "name": "stdout",
          "text": [
            "ChainMap keys: ['b', 'c', 'a']\n",
            "ChainMap value for 'b': 2\n"
          ]
        }
      ]
    },
    {
      "cell_type": "markdown",
      "source": [
        "## Counter\n",
        "\n",
        "* Counts occurrences of elements."
      ],
      "metadata": {
        "id": "B9ioei-Poexo"
      }
    },
    {
      "cell_type": "code",
      "source": [
        "data = ['apple', 'banana', 'apple', 'orange', 'banana', 'apple']\n",
        "counter = Counter(data)\n",
        "print(\"Counter result:\", counter)  # Output: Counter({'apple': 3, 'banana': 2, 'orange': 1})"
      ],
      "metadata": {
        "colab": {
          "base_uri": "https://localhost:8080/"
        },
        "id": "XdnHDaZsoe9N",
        "outputId": "e6bdc126-98fa-41de-c97b-2c81a8e839cd"
      },
      "execution_count": null,
      "outputs": [
        {
          "output_type": "stream",
          "name": "stdout",
          "text": [
            "Counter result: Counter({'apple': 3, 'banana': 2, 'orange': 1})\n"
          ]
        }
      ]
    },
    {
      "cell_type": "markdown",
      "source": [
        "## defaultdict\n",
        "* Dictionary with a default value for missing keys."
      ],
      "metadata": {
        "id": "7cnBEAEjjlBs"
      }
    },
    {
      "cell_type": "code",
      "source": [
        "dd = defaultdict(list)\n",
        "dd['fruits'].append('apple')"
      ],
      "metadata": {
        "id": "bxMk_yeljlQk"
      },
      "execution_count": null,
      "outputs": []
    },
    {
      "cell_type": "code",
      "source": [
        "dd['fruits'].append('banana')\n",
        "print(\"defaultdict:\", dict(dd))"
      ],
      "metadata": {
        "colab": {
          "base_uri": "https://localhost:8080/"
        },
        "id": "jXi87E4VjlXO",
        "outputId": "3dd9b463-13fd-477f-b2a9-7b43286d6af7"
      },
      "execution_count": null,
      "outputs": [
        {
          "output_type": "stream",
          "name": "stdout",
          "text": [
            "defaultdict: {'fruits': ['apple', 'banana']}\n"
          ]
        }
      ]
    },
    {
      "cell_type": "code",
      "source": [
        "print(dd['x'])"
      ],
      "metadata": {
        "colab": {
          "base_uri": "https://localhost:8080/"
        },
        "id": "Wz8TkKokneQ7",
        "outputId": "13b4343a-ef86-499a-ec5b-bcdb184723df"
      },
      "execution_count": null,
      "outputs": [
        {
          "output_type": "stream",
          "name": "stdout",
          "text": [
            "[]\n"
          ]
        }
      ]
    },
    {
      "cell_type": "markdown",
      "source": [
        "## UserDict\n",
        "A wrapper around dictionary objects, useful for subclassing."
      ],
      "metadata": {
        "id": "CvDnU64zmzXK"
      }
    },
    {
      "cell_type": "code",
      "source": [
        "class MyDict(UserDict):\n",
        "    def get_keys(self):\n",
        "        return list(self.data.keys())\n",
        "\n",
        "ud = MyDict({'x': 10, 'y': 20})\n",
        "print(\"UserDict keys:\", ud.get_keys())  # Output: ['x', 'y']"
      ],
      "metadata": {
        "id": "12TCSSpamzgk"
      },
      "execution_count": null,
      "outputs": []
    },
    {
      "cell_type": "markdown",
      "source": [
        "## UserList\n",
        "A wrapper around list objects, useful for subclassing."
      ],
      "metadata": {
        "id": "mFz6T0h7mzsd"
      }
    },
    {
      "cell_type": "code",
      "source": [
        "class MyList(UserList):\n",
        "    def append_square(self, value):\n",
        "        self.data.append(value * value)\n",
        "\n",
        "ul = MyList([1, 2, 3])\n",
        "ul.append_square(4)\n",
        "print(\"UserList:\", ul)  # Output: [1, 2, 3, 16]"
      ],
      "metadata": {
        "id": "N9CwtQW_mzzz"
      },
      "execution_count": null,
      "outputs": []
    },
    {
      "cell_type": "markdown",
      "source": [
        "## UserString: A wrapper around string objects, useful for subclassing."
      ],
      "metadata": {
        "id": "IJEjyG0JnEEs"
      }
    },
    {
      "cell_type": "code",
      "source": [
        "class MyString(UserString):\n",
        "    def shout(self):\n",
        "        return self.data.upper() + \"!!!\""
      ],
      "metadata": {
        "id": "WDejwjzEnGQ1"
      },
      "execution_count": null,
      "outputs": []
    },
    {
      "cell_type": "markdown",
      "source": [
        "![image.png](data:image/png;base64,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)"
      ],
      "metadata": {
        "id": "fDLDN9XaoVLs"
      }
    }
  ]
}